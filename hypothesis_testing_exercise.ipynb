{
 "cells": [
  {
   "cell_type": "markdown",
   "metadata": {},
   "source": [
    "## Hypothesis Testing Assignment"
   ]
  },
  {
   "cell_type": "code",
   "execution_count": 2,
   "metadata": {},
   "outputs": [],
   "source": [
    "#Importing necessary packages\n",
    "import pandas as pd\n",
    "import numpy as np\n",
    "# package with hypothesis tests\n",
    "import scipy.stats as st\n",
    "from scipy.stats import ttest_ind\n",
    "import matplotlib.pyplot as plt"
   ]
  },
  {
   "cell_type": "markdown",
   "metadata": {},
   "source": [
    "### Data"
   ]
  },
  {
   "cell_type": "markdown",
   "metadata": {},
   "source": [
    "You can download the data from [**here**](https://drive.google.com/file/d/0Bz9_0VdXvv9bUUNlUTVrMF9VcVU/view?usp=sharing&resourcekey=0-16O9Fc5eaJH99-M7AHqHOg). The data contains results of all NBA games from seasons 2013/2014 to 2015/2016."
   ]
  },
  {
   "cell_type": "code",
   "execution_count": null,
   "metadata": {},
   "outputs": [],
   "source": []
  },
  {
   "cell_type": "code",
   "execution_count": null,
   "metadata": {},
   "outputs": [],
   "source": []
  },
  {
   "cell_type": "markdown",
   "metadata": {},
   "source": [
    "--------------\n",
    "### Task 1\n",
    "Split the data into **3** separate dataframes for each NBA season!"
   ]
  },
  {
   "cell_type": "code",
   "execution_count": 3,
   "metadata": {},
   "outputs": [],
   "source": [
    "df = pd.read_csv('nba_games_2013_2015.csv', sep = ';')\n",
    "df2015 = df[df.SEASON_ID == 22015]\n",
    "df2014 = df[df.SEASON_ID == 22014]\n",
    "df2013 = df[df.SEASON_ID == 22013]"
   ]
  },
  {
   "cell_type": "code",
   "execution_count": 48,
   "metadata": {},
   "outputs": [
    {
     "data": {
      "text/html": [
       "<div>\n",
       "<style scoped>\n",
       "    .dataframe tbody tr th:only-of-type {\n",
       "        vertical-align: middle;\n",
       "    }\n",
       "\n",
       "    .dataframe tbody tr th {\n",
       "        vertical-align: top;\n",
       "    }\n",
       "\n",
       "    .dataframe thead th {\n",
       "        text-align: right;\n",
       "    }\n",
       "</style>\n",
       "<table border=\"1\" class=\"dataframe\">\n",
       "  <thead>\n",
       "    <tr style=\"text-align: right;\">\n",
       "      <th></th>\n",
       "      <th>SEASON_ID</th>\n",
       "      <th>TEAM_ID</th>\n",
       "      <th>TEAM_ABBREVIATION</th>\n",
       "      <th>TEAM_NAME</th>\n",
       "      <th>GAME_ID</th>\n",
       "      <th>GAME_DATE</th>\n",
       "      <th>MATCHUP</th>\n",
       "      <th>WL</th>\n",
       "      <th>MIN</th>\n",
       "      <th>PTS</th>\n",
       "      <th>...</th>\n",
       "      <th>FT_PCT</th>\n",
       "      <th>OREB</th>\n",
       "      <th>DREB</th>\n",
       "      <th>REB</th>\n",
       "      <th>AST</th>\n",
       "      <th>STL</th>\n",
       "      <th>BLK</th>\n",
       "      <th>TOV</th>\n",
       "      <th>PF</th>\n",
       "      <th>PLUS_MINUS</th>\n",
       "    </tr>\n",
       "  </thead>\n",
       "  <tbody>\n",
       "    <tr>\n",
       "      <th>2460</th>\n",
       "      <td>22014</td>\n",
       "      <td>1610612760</td>\n",
       "      <td>OKC</td>\n",
       "      <td>Oklahoma City Thunder</td>\n",
       "      <td>21401222</td>\n",
       "      <td>2015-04-15</td>\n",
       "      <td>OKC @ MIN</td>\n",
       "      <td>W</td>\n",
       "      <td>241</td>\n",
       "      <td>138</td>\n",
       "      <td>...</td>\n",
       "      <td>0.710</td>\n",
       "      <td>18</td>\n",
       "      <td>28</td>\n",
       "      <td>46</td>\n",
       "      <td>22</td>\n",
       "      <td>10</td>\n",
       "      <td>6</td>\n",
       "      <td>13</td>\n",
       "      <td>25</td>\n",
       "      <td>25.0</td>\n",
       "    </tr>\n",
       "    <tr>\n",
       "      <th>2461</th>\n",
       "      <td>22014</td>\n",
       "      <td>1610612765</td>\n",
       "      <td>DET</td>\n",
       "      <td>Detroit Pistons</td>\n",
       "      <td>21401226</td>\n",
       "      <td>2015-04-15</td>\n",
       "      <td>DET @ NYK</td>\n",
       "      <td>W</td>\n",
       "      <td>240</td>\n",
       "      <td>112</td>\n",
       "      <td>...</td>\n",
       "      <td>0.741</td>\n",
       "      <td>11</td>\n",
       "      <td>33</td>\n",
       "      <td>44</td>\n",
       "      <td>20</td>\n",
       "      <td>14</td>\n",
       "      <td>3</td>\n",
       "      <td>12</td>\n",
       "      <td>22</td>\n",
       "      <td>22.0</td>\n",
       "    </tr>\n",
       "    <tr>\n",
       "      <th>2462</th>\n",
       "      <td>22014</td>\n",
       "      <td>1610612766</td>\n",
       "      <td>CHA</td>\n",
       "      <td>Charlotte Hornets</td>\n",
       "      <td>21401228</td>\n",
       "      <td>2015-04-15</td>\n",
       "      <td>CHA @ TOR</td>\n",
       "      <td>L</td>\n",
       "      <td>240</td>\n",
       "      <td>87</td>\n",
       "      <td>...</td>\n",
       "      <td>0.938</td>\n",
       "      <td>8</td>\n",
       "      <td>28</td>\n",
       "      <td>36</td>\n",
       "      <td>15</td>\n",
       "      <td>8</td>\n",
       "      <td>3</td>\n",
       "      <td>12</td>\n",
       "      <td>10</td>\n",
       "      <td>-5.0</td>\n",
       "    </tr>\n",
       "    <tr>\n",
       "      <th>2463</th>\n",
       "      <td>22014</td>\n",
       "      <td>1610612737</td>\n",
       "      <td>ATL</td>\n",
       "      <td>Atlanta Hawks</td>\n",
       "      <td>21401217</td>\n",
       "      <td>2015-04-15</td>\n",
       "      <td>ATL @ CHI</td>\n",
       "      <td>L</td>\n",
       "      <td>240</td>\n",
       "      <td>85</td>\n",
       "      <td>...</td>\n",
       "      <td>0.714</td>\n",
       "      <td>10</td>\n",
       "      <td>32</td>\n",
       "      <td>42</td>\n",
       "      <td>15</td>\n",
       "      <td>10</td>\n",
       "      <td>10</td>\n",
       "      <td>15</td>\n",
       "      <td>19</td>\n",
       "      <td>-6.0</td>\n",
       "    </tr>\n",
       "    <tr>\n",
       "      <th>2464</th>\n",
       "      <td>22014</td>\n",
       "      <td>1610612759</td>\n",
       "      <td>SAS</td>\n",
       "      <td>San Antonio Spurs</td>\n",
       "      <td>21401223</td>\n",
       "      <td>2015-04-15</td>\n",
       "      <td>SAS @ NOP</td>\n",
       "      <td>L</td>\n",
       "      <td>238</td>\n",
       "      <td>103</td>\n",
       "      <td>...</td>\n",
       "      <td>0.769</td>\n",
       "      <td>4</td>\n",
       "      <td>32</td>\n",
       "      <td>36</td>\n",
       "      <td>33</td>\n",
       "      <td>2</td>\n",
       "      <td>3</td>\n",
       "      <td>15</td>\n",
       "      <td>20</td>\n",
       "      <td>-5.0</td>\n",
       "    </tr>\n",
       "    <tr>\n",
       "      <th>...</th>\n",
       "      <td>...</td>\n",
       "      <td>...</td>\n",
       "      <td>...</td>\n",
       "      <td>...</td>\n",
       "      <td>...</td>\n",
       "      <td>...</td>\n",
       "      <td>...</td>\n",
       "      <td>...</td>\n",
       "      <td>...</td>\n",
       "      <td>...</td>\n",
       "      <td>...</td>\n",
       "      <td>...</td>\n",
       "      <td>...</td>\n",
       "      <td>...</td>\n",
       "      <td>...</td>\n",
       "      <td>...</td>\n",
       "      <td>...</td>\n",
       "      <td>...</td>\n",
       "      <td>...</td>\n",
       "      <td>...</td>\n",
       "      <td>...</td>\n",
       "    </tr>\n",
       "    <tr>\n",
       "      <th>4915</th>\n",
       "      <td>22014</td>\n",
       "      <td>1610612740</td>\n",
       "      <td>NOP</td>\n",
       "      <td>New Orleans Pelicans</td>\n",
       "      <td>21400001</td>\n",
       "      <td>2014-10-28</td>\n",
       "      <td>NOP vs. ORL</td>\n",
       "      <td>W</td>\n",
       "      <td>240</td>\n",
       "      <td>101</td>\n",
       "      <td>...</td>\n",
       "      <td>0.484</td>\n",
       "      <td>26</td>\n",
       "      <td>36</td>\n",
       "      <td>62</td>\n",
       "      <td>20</td>\n",
       "      <td>10</td>\n",
       "      <td>17</td>\n",
       "      <td>9</td>\n",
       "      <td>17</td>\n",
       "      <td>17.0</td>\n",
       "    </tr>\n",
       "    <tr>\n",
       "      <th>4916</th>\n",
       "      <td>22014</td>\n",
       "      <td>1610612742</td>\n",
       "      <td>DAL</td>\n",
       "      <td>Dallas Mavericks</td>\n",
       "      <td>21400002</td>\n",
       "      <td>2014-10-28</td>\n",
       "      <td>DAL @ SAS</td>\n",
       "      <td>L</td>\n",
       "      <td>239</td>\n",
       "      <td>100</td>\n",
       "      <td>...</td>\n",
       "      <td>0.842</td>\n",
       "      <td>9</td>\n",
       "      <td>24</td>\n",
       "      <td>33</td>\n",
       "      <td>17</td>\n",
       "      <td>9</td>\n",
       "      <td>3</td>\n",
       "      <td>10</td>\n",
       "      <td>20</td>\n",
       "      <td>-1.0</td>\n",
       "    </tr>\n",
       "    <tr>\n",
       "      <th>4917</th>\n",
       "      <td>22014</td>\n",
       "      <td>1610612753</td>\n",
       "      <td>ORL</td>\n",
       "      <td>Orlando Magic</td>\n",
       "      <td>21400001</td>\n",
       "      <td>2014-10-28</td>\n",
       "      <td>ORL @ NOP</td>\n",
       "      <td>L</td>\n",
       "      <td>239</td>\n",
       "      <td>84</td>\n",
       "      <td>...</td>\n",
       "      <td>0.762</td>\n",
       "      <td>16</td>\n",
       "      <td>40</td>\n",
       "      <td>56</td>\n",
       "      <td>17</td>\n",
       "      <td>5</td>\n",
       "      <td>9</td>\n",
       "      <td>18</td>\n",
       "      <td>25</td>\n",
       "      <td>-17.0</td>\n",
       "    </tr>\n",
       "    <tr>\n",
       "      <th>4918</th>\n",
       "      <td>22014</td>\n",
       "      <td>1610612745</td>\n",
       "      <td>HOU</td>\n",
       "      <td>Houston Rockets</td>\n",
       "      <td>21400003</td>\n",
       "      <td>2014-10-28</td>\n",
       "      <td>HOU @ LAL</td>\n",
       "      <td>W</td>\n",
       "      <td>241</td>\n",
       "      <td>108</td>\n",
       "      <td>...</td>\n",
       "      <td>0.680</td>\n",
       "      <td>14</td>\n",
       "      <td>33</td>\n",
       "      <td>47</td>\n",
       "      <td>22</td>\n",
       "      <td>7</td>\n",
       "      <td>3</td>\n",
       "      <td>13</td>\n",
       "      <td>30</td>\n",
       "      <td>18.0</td>\n",
       "    </tr>\n",
       "    <tr>\n",
       "      <th>4919</th>\n",
       "      <td>22014</td>\n",
       "      <td>1610612759</td>\n",
       "      <td>SAS</td>\n",
       "      <td>San Antonio Spurs</td>\n",
       "      <td>21400002</td>\n",
       "      <td>2014-10-28</td>\n",
       "      <td>SAS vs. DAL</td>\n",
       "      <td>W</td>\n",
       "      <td>241</td>\n",
       "      <td>101</td>\n",
       "      <td>...</td>\n",
       "      <td>0.813</td>\n",
       "      <td>9</td>\n",
       "      <td>29</td>\n",
       "      <td>38</td>\n",
       "      <td>23</td>\n",
       "      <td>5</td>\n",
       "      <td>3</td>\n",
       "      <td>20</td>\n",
       "      <td>20</td>\n",
       "      <td>1.0</td>\n",
       "    </tr>\n",
       "  </tbody>\n",
       "</table>\n",
       "<p>2460 rows × 28 columns</p>\n",
       "</div>"
      ],
      "text/plain": [
       "      SEASON_ID     TEAM_ID TEAM_ABBREVIATION              TEAM_NAME  \\\n",
       "2460      22014  1610612760               OKC  Oklahoma City Thunder   \n",
       "2461      22014  1610612765               DET        Detroit Pistons   \n",
       "2462      22014  1610612766               CHA      Charlotte Hornets   \n",
       "2463      22014  1610612737               ATL          Atlanta Hawks   \n",
       "2464      22014  1610612759               SAS      San Antonio Spurs   \n",
       "...         ...         ...               ...                    ...   \n",
       "4915      22014  1610612740               NOP   New Orleans Pelicans   \n",
       "4916      22014  1610612742               DAL       Dallas Mavericks   \n",
       "4917      22014  1610612753               ORL          Orlando Magic   \n",
       "4918      22014  1610612745               HOU        Houston Rockets   \n",
       "4919      22014  1610612759               SAS      San Antonio Spurs   \n",
       "\n",
       "       GAME_ID   GAME_DATE      MATCHUP WL  MIN  PTS  ...  FT_PCT  OREB  DREB  \\\n",
       "2460  21401222  2015-04-15    OKC @ MIN  W  241  138  ...   0.710    18    28   \n",
       "2461  21401226  2015-04-15    DET @ NYK  W  240  112  ...   0.741    11    33   \n",
       "2462  21401228  2015-04-15    CHA @ TOR  L  240   87  ...   0.938     8    28   \n",
       "2463  21401217  2015-04-15    ATL @ CHI  L  240   85  ...   0.714    10    32   \n",
       "2464  21401223  2015-04-15    SAS @ NOP  L  238  103  ...   0.769     4    32   \n",
       "...        ...         ...          ... ..  ...  ...  ...     ...   ...   ...   \n",
       "4915  21400001  2014-10-28  NOP vs. ORL  W  240  101  ...   0.484    26    36   \n",
       "4916  21400002  2014-10-28    DAL @ SAS  L  239  100  ...   0.842     9    24   \n",
       "4917  21400001  2014-10-28    ORL @ NOP  L  239   84  ...   0.762    16    40   \n",
       "4918  21400003  2014-10-28    HOU @ LAL  W  241  108  ...   0.680    14    33   \n",
       "4919  21400002  2014-10-28  SAS vs. DAL  W  241  101  ...   0.813     9    29   \n",
       "\n",
       "      REB  AST  STL  BLK  TOV  PF  PLUS_MINUS  \n",
       "2460   46   22   10    6   13  25        25.0  \n",
       "2461   44   20   14    3   12  22        22.0  \n",
       "2462   36   15    8    3   12  10        -5.0  \n",
       "2463   42   15   10   10   15  19        -6.0  \n",
       "2464   36   33    2    3   15  20        -5.0  \n",
       "...   ...  ...  ...  ...  ...  ..         ...  \n",
       "4915   62   20   10   17    9  17        17.0  \n",
       "4916   33   17    9    3   10  20        -1.0  \n",
       "4917   56   17    5    9   18  25       -17.0  \n",
       "4918   47   22    7    3   13  30        18.0  \n",
       "4919   38   23    5    3   20  20         1.0  \n",
       "\n",
       "[2460 rows x 28 columns]"
      ]
     },
     "execution_count": 48,
     "metadata": {},
     "output_type": "execute_result"
    }
   ],
   "source": [
    "df2014"
   ]
  },
  {
   "cell_type": "markdown",
   "metadata": {},
   "source": [
    "---------------\n",
    "### Task 2\n",
    "Test the hypothesis that the offensive productions stats of the Cleveland Cavaliers and Golden State Warriors (the teams that met in the finals that year) were from the same distribution in the 2015/2016 season.\n",
    "\n",
    "Offensive production refers to two variables: **PTS (Points)** and **FG_PCT (Field Goal Percentage)**. We will need to do two separate hypothesis tests, one for each variable."
   ]
  },
  {
   "cell_type": "code",
   "execution_count": 4,
   "metadata": {},
   "outputs": [],
   "source": [
    "PTS_Cavs = pd.Series(df2015['PTS'][df2015.TEAM_NAME == 'Cleveland Cavaliers'])\n",
    "PTS_GSW = pd.Series(df2015['PTS'][df2015.TEAM_NAME == 'Golden State Warriors'])\n",
    "FG_PCT_Cavs = pd.Series(df2015['FG_PCT'][df2015.TEAM_NAME == 'Cleveland Cavaliers'])\n",
    "FG_PCT_GSW = pd.Series(df2015['FG_PCT'][df2015.TEAM_NAME == 'Golden State Warriors'])"
   ]
  },
  {
   "cell_type": "code",
   "execution_count": 14,
   "metadata": {},
   "outputs": [
    {
     "name": "stdout",
     "output_type": "stream",
     "text": [
      "Null hypothesis tested:  Testing that the 2015/2016 CLE & GSW Points were from the same distribution\n",
      "Test result: The null hypothesis is rejected, samples are significantly different \n",
      "\n",
      "Null hypothesis tested:  Testing that the Field Goal % was from the same distribution\n",
      "Test result: The null hypothesis is rejected, samples are significantly different \n",
      "\n"
     ]
    },
    {
     "data": {
      "text/plain": [
       "0.00206097581047554"
      ]
     },
     "execution_count": 14,
     "metadata": {},
     "output_type": "execute_result"
    }
   ],
   "source": [
    "def two_sided_t_test(data1, data2,nullhyp=\"Not specified\",to_print=False,alpha=0.05):\n",
    "\n",
    "    \"\"\"Check whether or not we reject give a null hypothesis\n",
    "    |Parameters|\n",
    "        data1, data2: Panda series of the 2 asmples to compare\n",
    "        nullhyp: (string) Null hypothesis\n",
    "        to_print: (boolean) Whether to print or not, default is False\n",
    "        alpha: (float, optional) P-value threshold for signifigance.  Default is 0.05\n",
    "    \"\"\"\n",
    "\n",
    "    ttest = ttest_ind(data1, data2)\n",
    "    if to_print:\n",
    "        print('Null hypothesis tested: ', nullhyp)\n",
    "        if ttest[1] < alpha:\n",
    "            print('Test result: The null hypothesis is rejected, samples are significantly different \\n')\n",
    "        else:\n",
    "            print('Test result: Fail to reject the null hypothesis \\n')\n",
    "    return ttest[1]\n",
    "        \n",
    "two_sided_t_test(PTS_Cavs, PTS_GSW, \"Testing that the 2015/2016 CLE & GSW Points were from the same distribution\", True)\n",
    "two_sided_t_test(FG_PCT_Cavs, FG_PCT_GSW, \"Testing that the Field Goal % was from the same distribution\", True)\n"
   ]
  },
  {
   "cell_type": "markdown",
   "metadata": {},
   "source": [
    "-----------------\n",
    "### Task 3\n",
    "Test the hypothesis that the number of points (PTS) scored by Cleveland Cavaliers changed significantly after the head coach changed in the 2015/2016 season.\n",
    "\n",
    "- **Coach Blatt was fired on 24th of Jan, 2016**. \n",
    "\n",
    "Use the data from seasons 2014/2015 and 2015/2016 - those are years when Cleveland was coached by Blatt. \n",
    "\n",
    "**We have two possible solutions to try here:**\n",
    "- Take the same amount of games from before and after and try t-test.\n",
    "- Take all the games from before and after and look for the right test to compare two samples with different sizes. (You will need to go through the scipy documentation or google to figure out what kind of test is required.)"
   ]
  },
  {
   "cell_type": "code",
   "execution_count": 125,
   "metadata": {},
   "outputs": [
    {
     "name": "stdout",
     "output_type": "stream",
     "text": [
      "reject\n"
     ]
    }
   ],
   "source": [
    "df = df[df.SEASON_ID != 22013]\n",
    "dfBlatt = df[df.TEAM_NAME == 'Cleveland Cavaliers']\n",
    "df_after_Blatt = pd.Series(dfBlatt['PTS'][dfBlatt.GAME_DATE > '2016-01-24'])\n",
    "df_during_Blatt = pd.Series(dfBlatt['PTS'][dfBlatt.GAME_DATE <= '2016-01-24'])\n",
    "\n",
    "alpha = 0.05\n",
    "\n",
    "Blatt_score = ttest_ind(df_after_Blatt, df_during_Blatt)\n",
    "\n",
    "if Blatt_score[1] < alpha:\n",
    "    print('reject')\n",
    "else:\n",
    "    print('do not reject')\n"
   ]
  },
  {
   "cell_type": "code",
   "execution_count": 130,
   "metadata": {},
   "outputs": [
    {
     "data": {
      "image/png": "[encoded data removed]",
      "text/plain": [
       "<Figure size 640x480 with 1 Axes>"
      ]
     },
     "metadata": {},
     "output_type": "display_data"
    }
   ],
   "source": [
    "plt.hist(df_during_Blatt, bins=30)\n",
    "plt.hist(df_after_Blatt, bins=30)\n",
    "plt.legend(('with Blatt', 'No Blatt'))\n",
    "plt.show()"
   ]
  },
  {
   "cell_type": "code",
   "execution_count": 133,
   "metadata": {},
   "outputs": [
    {
     "name": "stdout",
     "output_type": "stream",
     "text": [
      "Average p value:  0.0672521522127618\n",
      "Number of t-tests performed:  100\n",
      "Conclusion: Coach Blatt does not make a difference\n"
     ]
    }
   ],
   "source": [
    "nsamples = 40\n",
    "ntests = 100 \n",
    "alpha = 0.05\n",
    "\n",
    "meanP = []\n",
    "\n",
    "for test in range(ntests):\n",
    "    randsampleBlatt = np.random.permutation(df_during_Blatt)[0:nsamples]\n",
    "    randsamplepostBlatt = np.random.permutation(df_after_Blatt)[:nsamples]\n",
    "    tstat,pvalue = st.ttest_ind(randsampleBlatt,randsamplepostBlatt)\n",
    "    meanP.append(pvalue)\n",
    "\n",
    "print('Average p value: ', sum(meanP)/ntests)\n",
    "print('Number of t-tests performed: ', len(meanP))\n",
    "\n",
    "if sum(meanP)/ntests > alpha:\n",
    "    print('Conclusion: Coach Blatt does not make a difference')\n",
    "else:\n",
    "    print('Conclusion: Coach Blatt makes the difference')\n"
   ]
  },
  {
   "cell_type": "markdown",
   "metadata": {},
   "source": [
    "----------------\n",
    "\n",
    "\n",
    "### Task 4\n",
    "Download [**the similar dataset**](https://drive.google.com/file/d/0Bz9_0VdXvv9bRHhuRTI1aXBQcTA/view?usp=sharing&resourcekey=0-jGIaWyk0bXyECNSzB3x38w) with scores from playoff games in 2016."
   ]
  },
  {
   "cell_type": "code",
   "execution_count": null,
   "metadata": {},
   "outputs": [],
   "source": []
  },
  {
   "cell_type": "markdown",
   "metadata": {},
   "source": [
    "------------\n",
    "### Task 5\n",
    "Test the hypothesis that **number of blocks (BLK)** are from the same distribution in both the NBA playoffs and in the NBA regular season for 2015/2016 seaon for the **Toronto Raptors**. \n",
    "\n",
    "- We will be working with two samples with different sizes again."
   ]
  },
  {
   "cell_type": "code",
   "execution_count": 139,
   "metadata": {},
   "outputs": [],
   "source": [
    "df_playoffs = pd.read_csv('nba_playoff_games_2016.csv', sep = ';')"
   ]
  },
  {
   "cell_type": "code",
   "execution_count": 140,
   "metadata": {},
   "outputs": [],
   "source": [
    "from statistics import mean"
   ]
  },
  {
   "cell_type": "code",
   "execution_count": 141,
   "metadata": {},
   "outputs": [
    {
     "data": {
      "image/png": "[encoded data removed]",
      "text/plain": [
       "<Figure size 640x480 with 1 Axes>"
      ]
     },
     "metadata": {},
     "output_type": "display_data"
    }
   ],
   "source": [
    "raptors_regular_season = df2015[df2015['TEAM_NAME'] == 'Toronto Raptors']['BLK']\n",
    "raptors_playoffs = df_playoffs[df_playoffs['TEAM_NAME'] == 'Toronto Raptors']['BLK']\n",
    "\n",
    "plot_bins = range(max(raptors_regular_season) - min(raptors_regular_season))\n",
    "\n",
    "plt.hist(raptors_regular_season, bins=plot_bins)\n",
    "plt.hist(raptors_playoffs, bins=plot_bins)\n",
    "plt.legend(('regular seasons', 'playoffs'))\n",
    "plt.show()"
   ]
  },
  {
   "cell_type": "code",
   "execution_count": 151,
   "metadata": {},
   "outputs": [],
   "source": [
    "def indttest_randsamp(data1, data2, nullhyp='Not Specified', ntests=1000, nsamples=False, alpha=0.05):\n",
    "\n",
    "    if nsamples == False:\n",
    "        nsamples=min([len(data1),len(data2)])\n",
    "    allPValues = []\n",
    "\n",
    "    for test in range(ntests):\n",
    "        randsample1 = np.random.permutation(data1)[:nsamples]\n",
    "        randsample2 = np.random.permutation(data2)[:nsamples]\n",
    "        pvalue = indttest(randsample1,randsample2,nullhyp,False,alpha)\n",
    "        allPValues.append(pvalue)\n",
    "\n",
    "    print('Power (alpha): ',alpha)\n",
    "    print(\"Average p value: \",sum(allPValues)/len(allPValues))\n",
    "    print('Sample size: ', nsamples)\n",
    "    print('Number of t-tests performed: ',len(allPValues)) # Check that number of p values equals number of t-tests\n",
    "    print('Null hypothesis tested: ',nullhyp)\n",
    "    \n",
    "    if sum(meanP)/ntests < alpha:\n",
    "        print('Conclusion: Reject the null hypothesis, samples are significantly different')\n",
    "    else:\n",
    "        print('Conclusion: Fail to reject the null hypothesis')\n",
    "    return sum(allPValues)/len(allPValues)"
   ]
  },
  {
   "cell_type": "code",
   "execution_count": 152,
   "metadata": {},
   "outputs": [
    {
     "name": "stdout",
     "output_type": "stream",
     "text": [
      "Power (alpha):  0.05\n",
      "Average p value:  0.04471203357721172\n",
      "Sample size:  20\n",
      "Number of t-tests performed:  5000\n",
      "Null hypothesis tested:  No difference in BLK between regular season vs. playoff seasons.\n",
      "Conclusion: Reject the null hypothesis, samples are significantly different\n"
     ]
    },
    {
     "data": {
      "text/plain": [
       "0.04471203357721172"
      ]
     },
     "execution_count": 152,
     "metadata": {},
     "output_type": "execute_result"
    }
   ],
   "source": [
    "indttest_randsamp(raptors_regular_season, raptors_playoffs,\"No difference in BLK between regular season vs. playoff seasons.\", 5000)"
   ]
  },
  {
   "cell_type": "code",
   "execution_count": null,
   "metadata": {},
   "outputs": [],
   "source": []
  },
  {
   "cell_type": "code",
   "execution_count": null,
   "metadata": {},
   "outputs": [],
   "source": []
  },
  {
   "cell_type": "markdown",
   "metadata": {},
   "source": [
    "\n",
    "-----------------\n",
    "### Task 6\n",
    "Test the hypothesis that the number of points (PTS) scored by Cleveland Cavaliers is equally distributed for all 3 seasons. \n",
    "\n",
    "- In this case, we need a hypothesis test that compares more than 2 distributions at the same. (You will need to go through the scipy documentation or google to figure out what kind of test is required.)"
   ]
  },
  {
   "cell_type": "code",
   "execution_count": 154,
   "metadata": {},
   "outputs": [],
   "source": [
    "df = pd.read_csv('nba_games_2013_2015.csv', sep = ';')\n",
    "dataClev = df[df['TEAM_NAME'] == 'Cleveland Cavaliers']\n",
    "\n",
    "clev13 = dataClev[dataClev['SEASON_ID'] == 22013]['PTS']\n",
    "clev14 = dataClev[dataClev['SEASON_ID'] == 22014]['PTS']\n",
    "clev15 = dataClev[dataClev['SEASON_ID'] == 22015]['PTS']"
   ]
  },
  {
   "cell_type": "code",
   "execution_count": 155,
   "metadata": {},
   "outputs": [
    {
     "name": "stdout",
     "output_type": "stream",
     "text": [
      "Based on levene test with centre set to  mean ...\n",
      "Statistic:  0.7598047344796496\n",
      "P value: , 0.46886572166835905\n",
      "Homogeneity of variance (homoscedasticity) is met.\n",
      "\n",
      "\n",
      "Based on levene test with centre set to  median ...\n",
      "Statistic:  0.7268088885666648\n",
      "P value: , 0.48449719064746033\n",
      "Homogeneity of variance (homoscedasticity) is met.\n",
      "\n",
      "\n"
     ]
    },
    {
     "data": {
      "text/plain": [
       "(0.7268088885666648, 0.48449719064746033)"
      ]
     },
     "execution_count": 155,
     "metadata": {},
     "output_type": "execute_result"
    }
   ],
   "source": [
    "def levene_test(*samples, center = 'mean', alpha = 0.05):\n",
    "    if center == False:\n",
    "        center = 'mean'\n",
    "\n",
    "    leveneStat, leveneP = st.levene(*samples, center = center, proportiontocut=0)\n",
    "\n",
    "    print('Based on levene test with centre set to ', center, '...')\n",
    "    print('Statistic: ', leveneStat)\n",
    "    print('P value: ,', leveneP)\n",
    "    \n",
    "    if leveneP > alpha:\n",
    "        print('Homogeneity of variance (homoscedasticity) is met.')\n",
    "    else:\n",
    "        print('Homogeneity of variance (homoscedasticity) is violated.')\n",
    "    print('\\n')\n",
    "    return leveneStat, leveneP\n",
    "\n",
    "levene_test(clev13, clev14, clev15)\n",
    "levene_test(clev13, clev14, clev15, center = 'median')"
   ]
  },
  {
   "cell_type": "code",
   "execution_count": null,
   "metadata": {},
   "outputs": [],
   "source": []
  },
  {
   "cell_type": "markdown",
   "metadata": {},
   "source": [
    "#### Follow Up\n",
    "**Between which seasons can we see the significant difference?**\n",
    "\n",
    "+ Unfortunatelly, this is not the output of an ANOVA test and further tests are needed to be run.\n",
    "+ Note: Lebron James came back to the Cleveland Caveliers prior to season 2014/2015. We can use this fact to interpret our results correctly."
   ]
  },
  {
   "cell_type": "code",
   "execution_count": 156,
   "metadata": {},
   "outputs": [
    {
     "name": "stdout",
     "output_type": "stream",
     "text": [
      "0.003087727119983984\n",
      "We reject the hypothesis H0; significant differences found!\n"
     ]
    }
   ],
   "source": [
    "# Checked resources for how to perform one-way ANOVA:\n",
    "# https://docs.scipy.org/doc/scipy/reference/generated/scipy.stats.f_oneway.html?highlight=anova\n",
    "# https://www.geeksforgeeks.org/how-to-perform-a-one-way-anova-in-python/\n",
    "\n",
    "Fstat, pvalueClevPts = st.f_oneway(clev13, clev14,clev15)\n",
    "print(pvalueClevPts)\n",
    "\n",
    "# Custom function that evaluates whehter or not to reject null hypothesis\n",
    "def evaluate_test(p,alpha = 0.05):\n",
    "    \"\"\"\n",
    "    PARAMS:\n",
    "    - p (float) - p-value from any test\n",
    "    - alpha (optional,float) - significance level\n",
    "    \"\"\"\n",
    "    if p < alpha:\n",
    "        print(\"We reject the hypothesis H0; significant differences found!\")\n",
    "    else:\n",
    "        print(\"We fail to reject the hypothesis H0; no significant differences found.\")\n",
    "    return\n",
    "\n",
    "evaluate_test(pvalueClevPts)"
   ]
  },
  {
   "cell_type": "code",
   "execution_count": null,
   "metadata": {},
   "outputs": [],
   "source": []
  },
  {
   "cell_type": "code",
   "execution_count": null,
   "metadata": {},
   "outputs": [],
   "source": []
  }
 ],
 "metadata": {
  "kernelspec": {
   "display_name": "Python 3.9.13 64-bit",
   "language": "python",
   "name": "python3"
  },
  "language_info": {
   "codemirror_mode": {
    "name": "ipython",
    "version": 3
   },
   "file_extension": ".py",
   "mimetype": "text/x-python",
   "name": "python",
   "nbconvert_exporter": "python",
   "pygments_lexer": "ipython3",
   "version": "3.9.13"
  },
  "vscode": {
   "interpreter": {
    "hash": "11938c6bc6919ae2720b4d5011047913343b08a43b18698fd82dedb0d4417594"
   }
  }
 },
 "nbformat": 4,
 "nbformat_minor": 4
}
