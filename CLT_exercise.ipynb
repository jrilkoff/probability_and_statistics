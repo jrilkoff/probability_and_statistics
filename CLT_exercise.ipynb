{
 "cells": [
  {
   "cell_type": "markdown",
   "metadata": {},
   "source": [
    "## Central Limit Theorem Exercise"
   ]
  },
  {
   "cell_type": "code",
   "execution_count": 3,
   "metadata": {},
   "outputs": [],
   "source": [
    "import pandas as pd\n",
    "import numpy as np\n",
    "# package with hypothesis tests\n",
    "import scipy.stats as st\n",
    "import matplotlib.pyplot as plt"
   ]
  },
  {
   "cell_type": "code",
   "execution_count": 4,
   "metadata": {},
   "outputs": [
    {
     "data": {
      "image/png": "[encoded data removed]",
      "text/plain": [
       "<Figure size 1400x500 with 2 Axes>"
      ]
     },
     "metadata": {},
     "output_type": "display_data"
    }
   ],
   "source": [
    "#\n",
    "uniform = np.random.rand(10000)\n",
    "normal = np.random.randn(10000)\n",
    "\n",
    "fig = plt.figure(figsize=(14,5))\n",
    "ax1 = fig.add_subplot(1,2,1)\n",
    "ax2 = fig.add_subplot(1,2,2)\n",
    "ax1.hist(uniform, 20)\n",
    "ax1.set_title('Uniform data')\n",
    "ax2.hist(normal, 20)\n",
    "ax2.set_title('Normal data')\n",
    "fig.tight_layout()"
   ]
  },
  {
   "cell_type": "markdown",
   "metadata": {},
   "source": [
    "### CLT - simulation"
   ]
  },
  {
   "cell_type": "markdown",
   "metadata": {},
   "source": [
    "### How many samples do we need to take, so that the distribution of means for these samples will pass the shapiro-wilk test for normality if the population is from a Uniform or a Normal distribution?\n",
    "\n",
    "+ Assume the population has 10,000 observation.\n",
    "+ Assume sample size is always 50.\n",
    "\n",
    "We will be suprised to see how fast the test passes for both distributions."
   ]
  },
  {
   "cell_type": "code",
   "execution_count": 95,
   "metadata": {},
   "outputs": [],
   "source": [
    "def shapiro_test(data, nsamples, test_done=\"Not specified\", to_print=False, ntests=1, dist_of_means = 3, alpha = 0.05):\n",
    "\n",
    "    \"\"\"Check how many samples are required so that the distribution of means for those samples will pass the shapiro-wilk test for normality\n",
    "    Parameters:\n",
    "        data: Numpy randomized distribution\n",
    "        nsamples: (integer) the size of the sample from the population sample\n",
    "        test_done: (string) builds the string outlining which test done\n",
    "        to_print: (boolean) whether to print or not, default is false, must be included as True for function to perate\n",
    "        ntests: (integer) counter to record number of tests required for normality - default is 1\n",
    "        mean_samples: (integer) Shapiro-Wilks test needs a minimum of 3 values to run\n",
    "        alpha: (float) P-value threshold for signifigance - default is 0.05\n",
    "    \"\"\"\n",
    "\n",
    "    # assigns variables for collecting p-values to test them over the total of samples\n",
    "    # determines the random samples selected from the population\n",
    "\n",
    "    allPValues = []\n",
    "    list_of_means = []\n",
    "    # random_samples = np.random.choice(data,size=nsamples)\n",
    "    \n",
    "    for i in range(dist_of_means):\n",
    "        random_sample = np.random.choice(data,size=nsamples)\n",
    "        list_of_means.append(np.mean(random_sample))\n",
    "\n",
    "    p_value = st.shapiro(list_of_means)[1]\n",
    "\n",
    "    print(p_value)\n",
    "    \n",
    "    if to_print:\n",
    "        print('The results for the', test_done)\n",
    "\n",
    "        # begin shapiro-wilks test, pulls a sample and tests, appends to list and determines mean of p-values\n",
    "\n",
    "        while p_value <= alpha:\n",
    "            random_sample = np.random.choice(data,size=nsamples)\n",
    "            sample_mean = np.mean(random_sample)\n",
    "            list_of_means.append(sample_mean)\n",
    "            p_value = st.shapiro(list_of_means)[1]\n",
    "            dist_of_means += 1           \n",
    "    \n",
    "    # output to identify successful test, or to highlight a break in loop if normality not reached.\n",
    "\n",
    "    print(f'The number of distribution tests required to obtain normality was {dist_of_means}')\n",
    "    print(f'P Value when normality was achieved = {p_value} \\n')"
   ]
  },
  {
   "cell_type": "markdown",
   "metadata": {},
   "source": []
  },
  {
   "cell_type": "code",
   "execution_count": 110,
   "metadata": {},
   "outputs": [
    {
     "name": "stdout",
     "output_type": "stream",
     "text": [
      "0.375882089138031\n",
      "The results for the uniform distribution were: \n",
      "\n",
      "The number of distribution tests required to obtain normality was 3\n",
      "P Value when normality was achieved = 0.375882089138031 \n",
      "\n",
      "0.9508946537971497\n",
      "The results for the normal distribution were: \n",
      "\n",
      "The number of distribution tests required to obtain normality was 3\n",
      "P Value when normality was achieved = 0.9508946537971497 \n",
      "\n"
     ]
    }
   ],
   "source": [
    "uniform = np.random.rand(10000)\n",
    "normal = np.random.randn(10000)\n",
    "sample_size = 50\n",
    "\n",
    "shapiro_test(uniform, sample_size, \"uniform distribution were: \\n\",True)\n",
    "shapiro_test(normal, sample_size, \"normal distribution were: \\n\",True)"
   ]
  },
  {
   "cell_type": "code",
   "execution_count": null,
   "metadata": {},
   "outputs": [],
   "source": []
  }
 ],
 "metadata": {
  "kernelspec": {
   "display_name": "Python 3.9.13 64-bit",
   "language": "python",
   "name": "python3"
  },
  "language_info": {
   "codemirror_mode": {
    "name": "ipython",
    "version": 3
   },
   "file_extension": ".py",
   "mimetype": "text/x-python",
   "name": "python",
   "nbconvert_exporter": "python",
   "pygments_lexer": "ipython3",
   "version": "3.9.13"
  },
  "vscode": {
   "interpreter": {
    "hash": "11938c6bc6919ae2720b4d5011047913343b08a43b18698fd82dedb0d4417594"
   }
  }
 },
 "nbformat": 4,
 "nbformat_minor": 4
}
